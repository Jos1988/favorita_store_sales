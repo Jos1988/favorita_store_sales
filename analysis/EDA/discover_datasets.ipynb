{
 "cells": [
  {
   "cell_type": "markdown",
   "source": [
    "# Checking out the different datasets."
   ],
   "metadata": {
    "collapsed": false,
    "pycharm": {
     "name": "#%% md\n"
    }
   }
  },
  {
   "cell_type": "markdown",
   "source": [
    "Import basic dependencies"
   ],
   "metadata": {
    "collapsed": false,
    "pycharm": {
     "name": "#%% md\n"
    }
   }
  },
  {
   "cell_type": "code",
   "execution_count": 57,
   "outputs": [],
   "source": [
    "import pandas as pd\n",
    "from definitions import HOLIDAY_EVENTS_FILE, OIL_FILE, STORES_FILE, TEST_FILE, TRAIN_FILE, TRANSACTIONS_FILE"
   ],
   "metadata": {
    "collapsed": false,
    "pycharm": {
     "name": "#%%\n"
    }
   }
  },
  {
   "cell_type": "markdown",
   "source": [
    "suppress warnings for cleaner output"
   ],
   "metadata": {
    "collapsed": false
   }
  },
  {
   "cell_type": "code",
   "execution_count": 58,
   "outputs": [],
   "source": [
    "import warnings\n",
    "warnings.filterwarnings('ignore')"
   ],
   "metadata": {
    "collapsed": false,
    "pycharm": {
     "name": "#%%\n"
    }
   }
  },
  {
   "cell_type": "markdown",
   "source": [
    "Create some general code for looping through datasets."
   ],
   "metadata": {
    "collapsed": false,
    "pycharm": {
     "name": "#%% md\n"
    }
   }
  },
  {
   "cell_type": "code",
   "execution_count": 59,
   "outputs": [],
   "source": [
    "from pandas.api.types import is_numeric_dtype, is_object_dtype\n",
    "\n",
    "def describe_dataset(df: pd.DataFrame):\n",
    "    print(f'columns: {df.columns.tolist()}')\n",
    "    print(f'length {len(df)}')\n",
    "    for col in df.columns:\n",
    "        if col == 'id':\n",
    "            continue\n",
    "\n",
    "        print()\n",
    "        print(f\" === Column: {col} === \")\n",
    "\n",
    "        print(f'Has nans?: {df[col].hasnans}')\n",
    "\n",
    "        if is_object_dtype(df[col]):\n",
    "            try:\n",
    "                date_col = pd.to_datetime(df[col])\n",
    "                print(f'{col} converted to datetime')\n",
    "                print(date_col.describe())\n",
    "                continue\n",
    "            except:\n",
    "                pass\n",
    "\n",
    "            print(df[col].value_counts())\n",
    "            print(f'{len(df[col].value_counts())} unique values')\n",
    "            continue\n",
    "\n",
    "        if is_numeric_dtype(df[col]):\n",
    "            print(df[col].describe())\n",
    "            continue\n",
    "\n",
    "        raise Exception(f'Cannot analyse {col}.')"
   ],
   "metadata": {
    "collapsed": false,
    "pycharm": {
     "name": "#%%\n"
    }
   }
  },
  {
   "cell_type": "markdown",
   "source": [
    "## Training data (`train.csv`)"
   ],
   "metadata": {
    "collapsed": false,
    "pycharm": {
     "name": "#%% md\n"
    }
   }
  },
  {
   "cell_type": "code",
   "execution_count": 60,
   "outputs": [
    {
     "name": "stdout",
     "output_type": "stream",
     "text": [
      "columns: ['id', 'date', 'store_nbr', 'family', 'sales', 'onpromotion']\n",
      "length 3000888\n",
      "\n",
      " === Column: date === \n",
      "Has nans?: False\n",
      "date converted to datetime\n",
      "count                 3000888\n",
      "unique                   1684\n",
      "top       2013-01-01 00:00:00\n",
      "freq                     1782\n",
      "first     2013-01-01 00:00:00\n",
      "last      2017-08-15 00:00:00\n",
      "Name: date, dtype: object\n",
      "\n",
      " === Column: store_nbr === \n",
      "Has nans?: False\n",
      "count    3.000888e+06\n",
      "mean     2.750000e+01\n",
      "std      1.558579e+01\n",
      "min      1.000000e+00\n",
      "25%      1.400000e+01\n",
      "50%      2.750000e+01\n",
      "75%      4.100000e+01\n",
      "max      5.400000e+01\n",
      "Name: store_nbr, dtype: float64\n",
      "\n",
      " === Column: family === \n",
      "Has nans?: False\n",
      "AUTOMOTIVE                    90936\n",
      "HOME APPLIANCES               90936\n",
      "SCHOOL AND OFFICE SUPPLIES    90936\n",
      "PRODUCE                       90936\n",
      "PREPARED FOODS                90936\n",
      "POULTRY                       90936\n",
      "PLAYERS AND ELECTRONICS       90936\n",
      "PET SUPPLIES                  90936\n",
      "PERSONAL CARE                 90936\n",
      "MEATS                         90936\n",
      "MAGAZINES                     90936\n",
      "LIQUOR,WINE,BEER              90936\n",
      "LINGERIE                      90936\n",
      "LAWN AND GARDEN               90936\n",
      "LADIESWEAR                    90936\n",
      "HOME CARE                     90936\n",
      "HOME AND KITCHEN II           90936\n",
      "BABY CARE                     90936\n",
      "HOME AND KITCHEN I            90936\n",
      "HARDWARE                      90936\n",
      "GROCERY II                    90936\n",
      "GROCERY I                     90936\n",
      "FROZEN FOODS                  90936\n",
      "EGGS                          90936\n",
      "DELI                          90936\n",
      "DAIRY                         90936\n",
      "CLEANING                      90936\n",
      "CELEBRATION                   90936\n",
      "BREAD/BAKERY                  90936\n",
      "BOOKS                         90936\n",
      "BEVERAGES                     90936\n",
      "BEAUTY                        90936\n",
      "SEAFOOD                       90936\n",
      "Name: family, dtype: int64\n",
      "33 unique values\n",
      "\n",
      " === Column: sales === \n",
      "Has nans?: False\n",
      "count    3.000888e+06\n",
      "mean     3.577757e+02\n",
      "std      1.101998e+03\n",
      "min      0.000000e+00\n",
      "25%      0.000000e+00\n",
      "50%      1.100000e+01\n",
      "75%      1.958473e+02\n",
      "max      1.247170e+05\n",
      "Name: sales, dtype: float64\n",
      "\n",
      " === Column: onpromotion === \n",
      "Has nans?: False\n",
      "count    3.000888e+06\n",
      "mean     2.602770e+00\n",
      "std      1.221888e+01\n",
      "min      0.000000e+00\n",
      "25%      0.000000e+00\n",
      "50%      0.000000e+00\n",
      "75%      0.000000e+00\n",
      "max      7.410000e+02\n",
      "Name: onpromotion, dtype: float64\n",
      "1     55572\n",
      "2     55572\n",
      "3     55572\n",
      "4     55572\n",
      "5     55572\n",
      "6     55572\n",
      "7     55572\n",
      "8     55572\n",
      "9     55572\n",
      "10    55572\n",
      "11    55572\n",
      "12    55572\n",
      "13    55572\n",
      "14    55572\n",
      "15    55572\n",
      "16    55572\n",
      "17    55572\n",
      "18    55572\n",
      "19    55572\n",
      "20    55572\n",
      "21    55572\n",
      "22    55572\n",
      "23    55572\n",
      "24    55572\n",
      "25    55572\n",
      "26    55572\n",
      "27    55572\n",
      "28    55572\n",
      "29    55572\n",
      "30    55572\n",
      "31    55572\n",
      "32    55572\n",
      "33    55572\n",
      "34    55572\n",
      "35    55572\n",
      "36    55572\n",
      "37    55572\n",
      "38    55572\n",
      "39    55572\n",
      "40    55572\n",
      "41    55572\n",
      "42    55572\n",
      "43    55572\n",
      "44    55572\n",
      "45    55572\n",
      "46    55572\n",
      "47    55572\n",
      "48    55572\n",
      "49    55572\n",
      "50    55572\n",
      "51    55572\n",
      "52    55572\n",
      "53    55572\n",
      "54    55572\n",
      "Name: store_nbr, dtype: int64\n"
     ]
    }
   ],
   "source": [
    "train_df = pd.read_csv(TRAIN_FILE)\n",
    "describe_dataset(train_df)\n",
    "\n",
    "print(train_df.store_nbr.value_counts().sort_index())"
   ],
   "metadata": {
    "collapsed": false,
    "pycharm": {
     "name": "#%%\n"
    }
   }
  },
  {
   "cell_type": "markdown",
   "source": [
    "The training data has the following columns.\n",
    "id: ids\n",
    "date:\n",
    " - Dates ranging from 2013-01-01 until 2017-08-15, so the recording stops in 2017 mid august.\n",
    " - There are over 3 million records but only 1684 unique dates (about 4.6 years). Every date occurs 1782 times.\n",
    "store_nbr:\n",
    " - Numbers ranging from 1 till 54, every store number is in 55572 records.\n",
    "family\n",
    " - Families seem to be product categories.\n",
    " - 33 different families each occurring 90936 times, some families have a I en II variant.\n",
    "sales\n",
    " - daily sales per store and family ranging from 0 to 124717 item (seems very unreliable to describe sales in items differ in price).\n",
    " - 0 to 741 items on promotion (average is 2.6)"
   ],
   "metadata": {
    "collapsed": false,
    "pycharm": {
     "name": "#%% md\n"
    }
   }
  },
  {
   "cell_type": "markdown",
   "source": [
    "## Testing data (`test.csv`)"
   ],
   "metadata": {
    "collapsed": false,
    "pycharm": {
     "name": "#%% md\n"
    }
   }
  },
  {
   "cell_type": "code",
   "execution_count": 61,
   "outputs": [
    {
     "name": "stdout",
     "output_type": "stream",
     "text": [
      "columns: ['id', 'date', 'store_nbr', 'family', 'onpromotion']\n",
      "length 28512\n",
      "\n",
      " === Column: date === \n",
      "Has nans?: False\n",
      "date converted to datetime\n",
      "count                   28512\n",
      "unique                     16\n",
      "top       2017-08-16 00:00:00\n",
      "freq                     1782\n",
      "first     2017-08-16 00:00:00\n",
      "last      2017-08-31 00:00:00\n",
      "Name: date, dtype: object\n",
      "\n",
      " === Column: store_nbr === \n",
      "Has nans?: False\n",
      "count    28512.000000\n",
      "mean        27.500000\n",
      "std         15.586057\n",
      "min          1.000000\n",
      "25%         14.000000\n",
      "50%         27.500000\n",
      "75%         41.000000\n",
      "max         54.000000\n",
      "Name: store_nbr, dtype: float64\n",
      "\n",
      " === Column: family === \n",
      "Has nans?: False\n",
      "AUTOMOTIVE                    864\n",
      "HOME APPLIANCES               864\n",
      "SCHOOL AND OFFICE SUPPLIES    864\n",
      "PRODUCE                       864\n",
      "PREPARED FOODS                864\n",
      "POULTRY                       864\n",
      "PLAYERS AND ELECTRONICS       864\n",
      "PET SUPPLIES                  864\n",
      "PERSONAL CARE                 864\n",
      "MEATS                         864\n",
      "MAGAZINES                     864\n",
      "LIQUOR,WINE,BEER              864\n",
      "LINGERIE                      864\n",
      "LAWN AND GARDEN               864\n",
      "LADIESWEAR                    864\n",
      "HOME CARE                     864\n",
      "HOME AND KITCHEN II           864\n",
      "BABY CARE                     864\n",
      "HOME AND KITCHEN I            864\n",
      "HARDWARE                      864\n",
      "GROCERY II                    864\n",
      "GROCERY I                     864\n",
      "FROZEN FOODS                  864\n",
      "EGGS                          864\n",
      "DELI                          864\n",
      "DAIRY                         864\n",
      "CLEANING                      864\n",
      "CELEBRATION                   864\n",
      "BREAD/BAKERY                  864\n",
      "BOOKS                         864\n",
      "BEVERAGES                     864\n",
      "BEAUTY                        864\n",
      "SEAFOOD                       864\n",
      "Name: family, dtype: int64\n",
      "33 unique values\n",
      "\n",
      " === Column: onpromotion === \n",
      "Has nans?: False\n",
      "count    28512.000000\n",
      "mean         6.965383\n",
      "std         20.683952\n",
      "min          0.000000\n",
      "25%          0.000000\n",
      "50%          0.000000\n",
      "75%          6.000000\n",
      "max        646.000000\n",
      "Name: onpromotion, dtype: float64\n"
     ]
    }
   ],
   "source": [
    "test_df = pd.read_csv(TEST_FILE)\n",
    "describe_dataset(test_df)"
   ],
   "metadata": {
    "collapsed": false,
    "pycharm": {
     "name": "#%%\n"
    }
   }
  },
  {
   "cell_type": "markdown",
   "source": [
    "Same as the train dataset but containing the last two week of august 2017 (16 days)."
   ],
   "metadata": {
    "collapsed": false,
    "pycharm": {
     "name": "#%% md\n"
    }
   }
  },
  {
   "cell_type": "markdown",
   "source": [
    "## Holiday data (`holidays_events.csv`)"
   ],
   "metadata": {
    "collapsed": false,
    "pycharm": {
     "name": "#%% md\n"
    }
   }
  },
  {
   "cell_type": "code",
   "execution_count": 62,
   "outputs": [
    {
     "name": "stdout",
     "output_type": "stream",
     "text": [
      "columns: ['date', 'type', 'locale', 'locale_name', 'description', 'transferred']\n",
      "length 350\n",
      "\n",
      " === Column: date === \n",
      "Has nans?: False\n",
      "date converted to datetime\n",
      "count                     350\n",
      "unique                    312\n",
      "top       2014-06-25 00:00:00\n",
      "freq                        4\n",
      "first     2012-03-02 00:00:00\n",
      "last      2017-12-26 00:00:00\n",
      "Name: date, dtype: object\n",
      "\n",
      " === Column: type === \n",
      "Has nans?: False\n",
      "Holiday       221\n",
      "Event          56\n",
      "Additional     51\n",
      "Transfer       12\n",
      "Bridge          5\n",
      "Work Day        5\n",
      "Name: type, dtype: int64\n",
      "6 unique values\n",
      "\n",
      " === Column: locale === \n",
      "Has nans?: False\n",
      "National    174\n",
      "Local       152\n",
      "Regional     24\n",
      "Name: locale, dtype: int64\n",
      "3 unique values\n",
      "\n",
      " === Column: locale_name === \n",
      "Has nans?: False\n",
      "Ecuador                           174\n",
      "Quito                              13\n",
      "Riobamba                           12\n",
      "Guaranda                           12\n",
      "Latacunga                          12\n",
      "Ambato                             12\n",
      "Guayaquil                          11\n",
      "Cuenca                              7\n",
      "Ibarra                              7\n",
      "Salinas                             6\n",
      "Loja                                6\n",
      "Santa Elena                         6\n",
      "Santo Domingo de los Tsachilas      6\n",
      "Quevedo                             6\n",
      "Manta                               6\n",
      "Esmeraldas                          6\n",
      "Cotopaxi                            6\n",
      "El Carmen                           6\n",
      "Santo Domingo                       6\n",
      "Machala                             6\n",
      "Imbabura                            6\n",
      "Puyo                                6\n",
      "Libertad                            6\n",
      "Cayambe                             6\n",
      "Name: locale_name, dtype: int64\n",
      "24 unique values\n",
      "\n",
      " === Column: description === \n",
      "Has nans?: False\n",
      "Carnaval                              10\n",
      "Fundacion de Cuenca                    7\n",
      "Fundacion de Ibarra                    7\n",
      "Fundacion de Quito                     6\n",
      "Provincializacion de Santo Domingo     6\n",
      "                                      ..\n",
      "Terremoto Manabi+8                     1\n",
      "Recupero puente Navidad                1\n",
      "Terremoto Manabi+10                    1\n",
      "Terremoto Manabi+11                    1\n",
      "Traslado Fundacion de Quito            1\n",
      "Name: description, Length: 103, dtype: int64\n",
      "103 unique values\n",
      "\n",
      " === Column: transferred === \n",
      "Has nans?: False\n",
      "count       350\n",
      "unique        2\n",
      "top       False\n",
      "freq        338\n",
      "Name: transferred, dtype: object\n",
      "103 different descriptions\n"
     ]
    }
   ],
   "source": [
    "holiday_df = pd.read_csv(HOLIDAY_EVENTS_FILE)\n",
    "describe_dataset(holiday_df)\n",
    "\n",
    "print(f'{len(holiday_df.description.unique())} different descriptions')"
   ],
   "metadata": {
    "collapsed": false,
    "pycharm": {
     "name": "#%%\n"
    }
   }
  },
  {
   "cell_type": "markdown",
   "source": [
    "date:\n",
    " - There are 350 holidays on record, on 312 different dates, so some holiday's coincide, most likely  they are local to multiple regions.\n",
    "type:\n",
    " - The majority of the dates are labelled as 'holidays'\n",
    " - 12 dates are transferred to another date and where not celebrated on that day.\n",
    " - 5 additional free days where added, compensated by 5 additional work days.\n",
    "locale:\n",
    " - a little over half the  holidays are national, a few are regional and the rest is local.\n",
    "locale_name:\n",
    " - there are 24 locale's.\n",
    "description:\n",
    " - Carnaval is the most occuring holiday (10 records), there are 103 different descriptions.\n",
    "transferred:\n",
    " - 12 holidays have been transferred, this matches the data from the type column."
   ],
   "metadata": {
    "collapsed": false,
    "pycharm": {
     "name": "#%% md\n"
    }
   }
  },
  {
   "cell_type": "code",
   "execution_count": 63,
   "outputs": [
    {
     "name": "stdout",
     "output_type": "stream",
     "text": [
      "     transferred      type                             description\n",
      "19          True   Holiday              Independencia de Guayaquil\n",
      "20         False  Transfer     Traslado Independencia de Guayaquil\n",
      "72          True   Holiday              Independencia de Guayaquil\n",
      "73         False  Transfer     Traslado Independencia de Guayaquil\n",
      "135         True   Holiday              Independencia de Guayaquil\n",
      "136        False  Transfer     Traslado Independencia de Guayaquil\n",
      "255         True   Holiday                    Batalla de Pichincha\n",
      "256        False  Transfer           Traslado Batalla de Pichincha\n",
      "265        False  Transfer         Traslado Fundacion de Guayaquil\n",
      "266         True   Holiday                  Fundacion de Guayaquil\n",
      "268         True   Holiday           Primer Grito de Independencia\n",
      "269        False  Transfer  Traslado Primer Grito de Independencia\n",
      "297         True   Holiday                      Primer dia del ano\n",
      "298        False  Transfer             Traslado Primer dia del ano\n",
      "303         True   Holiday                     Fundacion de Cuenca\n",
      "304        False  Transfer                     Fundacion de Cuenca\n",
      "312         True   Holiday                    Batalla de Pichincha\n",
      "313        False  Transfer           Traslado Batalla de Pichincha\n",
      "324         True   Holiday           Primer Grito de Independencia\n",
      "325        False  Transfer  Traslado Primer Grito de Independencia\n",
      "328         True   Holiday                     Fundacion de Ibarra\n",
      "329        False  Transfer                     Fundacion de Ibarra\n",
      "340         True   Holiday                      Fundacion de Quito\n",
      "342        False  Transfer             Traslado Fundacion de Quito\n"
     ]
    }
   ],
   "source": [
    "transferred_and_transfer_dates = holiday_df[(holiday_df.transferred == True) | (holiday_df.type == 'Transfer')][['transferred', 'type', 'description']]\n",
    "print(transferred_and_transfer_dates)"
   ],
   "metadata": {
    "collapsed": false,
    "pycharm": {
     "name": "#%%\n"
    }
   }
  },
  {
   "cell_type": "markdown",
   "source": [
    "The transferred holidays also seem to have 'Translado ' prepende to the description on the date the are transferred to.\n",
    "\n",
    "Most dates in this are 'off-days' except;\n",
    " - when transferred is True.\n",
    " - type is 'work day'"
   ],
   "metadata": {
    "collapsed": false,
    "pycharm": {
     "name": "#%% md\n"
    }
   }
  },
  {
   "cell_type": "code",
   "execution_count": 64,
   "outputs": [
    {
     "name": "stdout",
     "output_type": "stream",
     "text": [
      "42     5\n",
      "43     5\n",
      "149    5\n",
      "161    5\n",
      "283    5\n",
      "Name: date, dtype: int64\n"
     ]
    }
   ],
   "source": [
    "work_day_dates = pd.to_datetime(holiday_df[holiday_df.type == 'Work Day']['date'])\n",
    "print(work_day_dates.dt.day_of_week)"
   ],
   "metadata": {
    "collapsed": false,
    "pycharm": {
     "name": "#%%\n"
    }
   }
  },
  {
   "cell_type": "markdown",
   "source": [
    "Note that all 'Work Day' types are on a saturday."
   ],
   "metadata": {
    "collapsed": false,
    "pycharm": {
     "name": "#%% md\n"
    }
   }
  },
  {
   "cell_type": "markdown",
   "source": [
    "## Oil data (`oil.csv`)"
   ],
   "metadata": {
    "collapsed": false
   }
  },
  {
   "cell_type": "code",
   "source": [
    "oil_df = pd.read_csv(OIL_FILE)\n",
    "describe_dataset(oil_df)"
   ],
   "metadata": {
    "collapsed": false,
    "pycharm": {
     "name": "#%%\n"
    }
   },
   "execution_count": 65,
   "outputs": [
    {
     "name": "stdout",
     "output_type": "stream",
     "text": [
      "columns: ['date', 'dcoilwtico']\n",
      "length 1218\n",
      "\n",
      " === Column: date === \n",
      "Has nans?: False\n",
      "date converted to datetime\n",
      "count                    1218\n",
      "unique                   1218\n",
      "top       2013-01-01 00:00:00\n",
      "freq                        1\n",
      "first     2013-01-01 00:00:00\n",
      "last      2017-08-31 00:00:00\n",
      "Name: date, dtype: object\n",
      "\n",
      " === Column: dcoilwtico === \n",
      "Has nans?: True\n",
      "count    1175.000000\n",
      "mean       67.714366\n",
      "std        25.630476\n",
      "min        26.190000\n",
      "25%        46.405000\n",
      "50%        53.190000\n",
      "75%        95.660000\n",
      "max       110.620000\n",
      "Name: dcoilwtico, dtype: float64\n"
     ]
    }
   ]
  },
  {
   "cell_type": "markdown",
   "source": [
    "date:\n",
    " - there are 1218 days in the oil dataset, the train and test set have 1684 + 16 = 1700 days\n",
    "dcoilwtico:\n",
    " - the oilprice ranges from 26,19 to 110,00."
   ],
   "metadata": {
    "collapsed": false,
    "pycharm": {
     "name": "#%% md\n"
    }
   }
  },
  {
   "cell_type": "code",
   "execution_count": 66,
   "outputs": [
    {
     "name": "stdout",
     "output_type": "stream",
     "text": [
      "1    244\n",
      "2    244\n",
      "3    244\n",
      "4    243\n",
      "0    243\n",
      "Name: date, dtype: int64\n"
     ]
    }
   ],
   "source": [
    "print(pd.to_datetime(oil_df.date).dt.day_of_week.value_counts())"
   ],
   "metadata": {
    "collapsed": false,
    "pycharm": {
     "name": "#%%\n"
    }
   }
  },
  {
   "cell_type": "markdown",
   "source": [
    "There are no weekend days in the dataset, explaining why there are less days than in the train/test data."
   ],
   "metadata": {
    "collapsed": false,
    "pycharm": {
     "name": "#%% md\n"
    }
   }
  },
  {
   "cell_type": "markdown",
   "source": [
    "## Stores data (`stores.csv`)"
   ],
   "metadata": {
    "collapsed": false,
    "pycharm": {
     "name": "#%% md\n"
    }
   }
  },
  {
   "cell_type": "code",
   "execution_count": 67,
   "outputs": [
    {
     "name": "stdout",
     "output_type": "stream",
     "text": [
      "columns: ['store_nbr', 'city', 'state', 'type', 'cluster']\n",
      "length 54\n",
      "\n",
      " === Column: store_nbr === \n",
      "Has nans?: False\n",
      "count    54.000000\n",
      "mean     27.500000\n",
      "std      15.732133\n",
      "min       1.000000\n",
      "25%      14.250000\n",
      "50%      27.500000\n",
      "75%      40.750000\n",
      "max      54.000000\n",
      "Name: store_nbr, dtype: float64\n",
      "\n",
      " === Column: city === \n",
      "Has nans?: False\n",
      "Quito            18\n",
      "Guayaquil         8\n",
      "Cuenca            3\n",
      "Santo Domingo     3\n",
      "Manta             2\n",
      "Latacunga         2\n",
      "Machala           2\n",
      "Ambato            2\n",
      "Quevedo           1\n",
      "Esmeraldas        1\n",
      "Loja              1\n",
      "Libertad          1\n",
      "Playas            1\n",
      "Daule             1\n",
      "Babahoyo          1\n",
      "Salinas           1\n",
      "Puyo              1\n",
      "Guaranda          1\n",
      "Ibarra            1\n",
      "Riobamba          1\n",
      "Cayambe           1\n",
      "El Carmen         1\n",
      "Name: city, dtype: int64\n",
      "22 unique values\n",
      "\n",
      " === Column: state === \n",
      "Has nans?: False\n",
      "Pichincha                         19\n",
      "Guayas                            11\n",
      "Santo Domingo de los Tsachilas     3\n",
      "Azuay                              3\n",
      "Manabi                             3\n",
      "Cotopaxi                           2\n",
      "Tungurahua                         2\n",
      "Los Rios                           2\n",
      "El Oro                             2\n",
      "Chimborazo                         1\n",
      "Imbabura                           1\n",
      "Bolivar                            1\n",
      "Pastaza                            1\n",
      "Santa Elena                        1\n",
      "Loja                               1\n",
      "Esmeraldas                         1\n",
      "Name: state, dtype: int64\n",
      "16 unique values\n",
      "\n",
      " === Column: type === \n",
      "Has nans?: False\n",
      "D    18\n",
      "C    15\n",
      "A     9\n",
      "B     8\n",
      "E     4\n",
      "Name: type, dtype: int64\n",
      "5 unique values\n",
      "\n",
      " === Column: cluster === \n",
      "Has nans?: False\n",
      "count    54.000000\n",
      "mean      8.481481\n",
      "std       4.693395\n",
      "min       1.000000\n",
      "25%       4.000000\n",
      "50%       8.500000\n",
      "75%      13.000000\n",
      "max      17.000000\n",
      "Name: cluster, dtype: float64\n"
     ]
    }
   ],
   "source": [
    "stores_df = pd.read_csv(STORES_FILE)\n",
    "describe_dataset(stores_df)"
   ],
   "metadata": {
    "collapsed": false,
    "pycharm": {
     "name": "#%%\n"
    }
   }
  },
  {
   "cell_type": "markdown",
   "source": [
    "store_nbr:\n",
    " - There store numbers reflect the test/train data.\n",
    "city:\n",
    " - most cities have 1 store, som have more, Quito has 18 which is a log.\n",
    "state:\n",
    " - Pichincha and Guayas have a relatively high number of store.\n",
    " - other state have 1,2 or 3.\n",
    "type:\n",
    " - there are 5 type of stores, labelled as letters. It is unclear what they stand for.\n",
    "cluster:\n",
    " - there are 17 clusters."
   ],
   "metadata": {
    "collapsed": false,
    "pycharm": {
     "name": "#%% md\n"
    }
   }
  },
  {
   "cell_type": "markdown",
   "source": [
    "## Transaction data (`transactions.csv`)"
   ],
   "metadata": {
    "collapsed": false,
    "pycharm": {
     "name": "#%% md\n"
    }
   }
  },
  {
   "cell_type": "code",
   "execution_count": 68,
   "outputs": [
    {
     "name": "stdout",
     "output_type": "stream",
     "text": [
      "columns: ['date', 'store_nbr', 'transactions']\n",
      "length 83437\n",
      "\n",
      " === Column: date === \n",
      "Has nans?: False\n",
      "date converted to datetime\n",
      "count                   83437\n",
      "unique                   1681\n",
      "top       2017-08-15 00:00:00\n",
      "freq                       54\n",
      "first     2013-01-01 00:00:00\n",
      "last      2017-08-15 00:00:00\n",
      "Name: date, dtype: object\n",
      "\n",
      " === Column: store_nbr === \n",
      "Has nans?: False\n",
      "count    83437.000000\n",
      "mean        26.939296\n",
      "std         15.608269\n",
      "min          1.000000\n",
      "25%         13.000000\n",
      "50%         27.000000\n",
      "75%         40.000000\n",
      "max         54.000000\n",
      "Name: store_nbr, dtype: float64\n",
      "\n",
      " === Column: transactions === \n",
      "Has nans?: False\n",
      "count    83437.000000\n",
      "mean      1694.694536\n",
      "std        963.380084\n",
      "min          5.000000\n",
      "25%       1046.000000\n",
      "50%       1393.000000\n",
      "75%       2079.000000\n",
      "max       8359.000000\n",
      "Name: transactions, dtype: float64\n"
     ]
    }
   ],
   "source": [
    "transactions_df = pd.read_csv(TRANSACTIONS_FILE)\n",
    "describe_dataset(transactions_df)"
   ],
   "metadata": {
    "collapsed": false,
    "pycharm": {
     "name": "#%%\n"
    }
   }
  },
  {
   "cell_type": "markdown",
   "source": [
    "date:\n",
    " - 1681 dates, a little less than the train/test data.\n",
    "store_nbr:\n",
    " - transactions are mapped to store numbers and days, but nothing else.\n",
    "transactions:\n",
    " - number of transactions ranging from 5 to 8359 with a mean of 1694."
   ],
   "metadata": {
    "collapsed": false,
    "pycharm": {
     "name": "#%% md\n"
    }
   }
  }
 ],
 "metadata": {
  "kernelspec": {
   "display_name": "Python 3",
   "language": "python",
   "name": "python3"
  },
  "language_info": {
   "codemirror_mode": {
    "name": "ipython",
    "version": 2
   },
   "file_extension": ".py",
   "mimetype": "text/x-python",
   "name": "python",
   "nbconvert_exporter": "python",
   "pygments_lexer": "ipython2",
   "version": "2.7.6"
  }
 },
 "nbformat": 4,
 "nbformat_minor": 0
}