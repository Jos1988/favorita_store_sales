{
 "cells": [
  {
   "cell_type": "code",
   "execution_count": 2,
   "outputs": [
    {
     "name": "stdout",
     "output_type": "stream",
     "text": [
      "        date  dcoilwtico\n",
      "0 2013-01-01         NaN\n",
      "1 2013-01-02       93.14\n",
      "2 2013-01-03       92.97\n",
      "3 2013-01-04       93.12\n",
      "4 2013-01-07       93.20\n"
     ]
    }
   ],
   "source": [
    "import pandas as pd\n",
    "\n",
    "from definitions import OIL_FILE, HOLIDAY_EVENTS_FILE, TRAIN_FILE\n",
    "\n",
    "oil_df = pd.read_csv(OIL_FILE, parse_dates=['date'])\n",
    "print(oil_df.head())"
   ],
   "metadata": {
    "collapsed": false,
    "pycharm": {
     "name": "#%%\n"
    }
   }
  },
  {
   "cell_type": "markdown",
   "source": [
    "## Dates\n",
    "inspecting the date column"
   ],
   "metadata": {
    "collapsed": false
   }
  },
  {
   "cell_type": "code",
   "execution_count": 3,
   "outputs": [
    {
     "name": "stdout",
     "output_type": "stream",
     "text": [
      "count                   1218\n",
      "mean     2015-05-02 12:00:00\n",
      "min      2013-01-01 00:00:00\n",
      "25%      2014-03-03 06:00:00\n",
      "50%      2015-05-02 12:00:00\n",
      "75%      2016-06-30 18:00:00\n",
      "max      2017-08-31 00:00:00\n",
      "Name: date, dtype: object\n",
      "has nans: False\n",
      "There are 486 missing dates.\n",
      "Lets see which weekdays:\n",
      "Int64Index([5, 6], dtype='int64')\n"
     ]
    }
   ],
   "source": [
    "from EDA.analysis import get_missing_dates\n",
    "\n",
    "print(oil_df['date'].describe(datetime_is_numeric=True))\n",
    "\n",
    "print(f\"has nans: {oil_df['date'].hasnans}\")\n",
    "missing_dates = get_missing_dates(oil_df['date'])\n",
    "print(f'There are {len(missing_dates)} missing dates.')\n",
    "print('Lets see which weekdays:')\n",
    "print(missing_dates.weekday.unique())"
   ],
   "metadata": {
    "collapsed": false,
    "pycharm": {
     "name": "#%%\n"
    }
   }
  },
  {
   "cell_type": "markdown",
   "source": [
    "The dates range from 2013-01-01 to 2017-08-31\n",
    "There are no nans but the weekend days are missing as the market is probably closed."
   ],
   "metadata": {
    "collapsed": false
   }
  },
  {
   "cell_type": "code",
   "execution_count": 4,
   "outputs": [
    {
     "name": "stdout",
     "output_type": "stream",
     "text": [
      "count    1175.000000\n",
      "mean       67.714366\n",
      "std        25.630476\n",
      "min        26.190000\n",
      "25%        46.405000\n",
      "50%        53.190000\n",
      "75%        95.660000\n",
      "max       110.620000\n",
      "Name: dcoilwtico, dtype: float64\n",
      "True\n",
      "43\n"
     ]
    }
   ],
   "source": [
    "## prices\n",
    "print(oil_df['dcoilwtico'].describe())\n",
    "print(oil_df['dcoilwtico'].hasnans)\n",
    "print(oil_df['dcoilwtico'].isna().sum())"
   ],
   "metadata": {
    "collapsed": false,
    "pycharm": {
     "name": "#%%\n"
    }
   }
  },
  {
   "cell_type": "markdown",
   "source": [
    "Prices range from 26 to 110 and there seem to be some days without a valid price, perhaps they are holidays."
   ],
   "metadata": {
    "collapsed": false
   }
  },
  {
   "cell_type": "code",
   "execution_count": 9,
   "outputs": [
    {
     "name": "stdout",
     "output_type": "stream",
     "text": [
      "False    26\n",
      "True     17\n",
      "Name: date, dtype: int64\n",
      "14     2013-01-21\n",
      "34     2013-02-18\n",
      "63     2013-03-29\n",
      "104    2013-05-27\n",
      "132    2013-07-04\n",
      "174    2013-09-02\n",
      "237    2013-11-28\n",
      "274    2014-01-20\n",
      "294    2014-02-17\n",
      "364    2014-05-26\n",
      "434    2014-09-01\n",
      "497    2014-11-27\n",
      "534    2015-01-19\n",
      "624    2015-05-25\n",
      "699    2015-09-07\n",
      "757    2015-11-26\n",
      "794    2016-01-18\n",
      "814    2016-02-15\n",
      "889    2016-05-30\n",
      "914    2016-07-04\n",
      "959    2016-09-05\n",
      "1017   2016-11-24\n",
      "1054   2017-01-16\n",
      "1079   2017-02-20\n",
      "1149   2017-05-29\n",
      "1175   2017-07-04\n",
      "Name: date, dtype: datetime64[ns]\n"
     ]
    }
   ],
   "source": [
    "dates_with_nan_price = oil_df[oil_df['dcoilwtico'].isna()].date\n",
    "holiday_df = pd.read_csv(HOLIDAY_EVENTS_FILE, parse_dates=['date'])\n",
    "holiday_dates = holiday_df['date'].unique()\n",
    "\n",
    "# Some dates with NaN prices that are holidays.\n",
    "print(dates_with_nan_price.isin(holiday_dates).value_counts())\n",
    "\n",
    "# For the remaining dates it is unknown why the price is missing.\n",
    "print(dates_with_nan_price[~dates_with_nan_price.isin(holiday_dates)])"
   ],
   "metadata": {
    "collapsed": false,
    "pycharm": {
     "name": "#%%\n"
    }
   }
  },
  {
   "cell_type": "markdown",
   "source": [
    "Lets plot the price data."
   ],
   "metadata": {
    "collapsed": false
   }
  },
  {
   "cell_type": "code",
   "execution_count": 6,
   "outputs": [
    {
     "data": {
      "text/plain": "<Figure size 432x288 with 1 Axes>",
      "image/png": "[encoded data removed]"
     },
     "metadata": {
      "needs_background": "light"
     },
     "output_type": "display_data"
    }
   ],
   "source": [
    "from matplotlib import pyplot as plt\n",
    "oil_df_indexed = oil_df.set_index('date')\n",
    "oil_df_indexed.plot(rot=25, title='oil price')\n",
    "plt.show()"
   ],
   "metadata": {
    "collapsed": false,
    "pycharm": {
     "name": "#%%\n"
    }
   }
  },
  {
   "cell_type": "markdown",
   "source": [
    "There is a steep drop in oil prices at the end of 2014.\n",
    "\n",
    "## Correlation\n",
    "\n",
    "Finally lets see the relation between the oil price and daily sales."
   ],
   "metadata": {
    "collapsed": false
   }
  },
  {
   "cell_type": "code",
   "execution_count": 11,
   "outputs": [
    {
     "data": {
      "text/plain": "<Figure size 432x288 with 1 Axes>",
      "image/png": "[encoded data removed]"
     },
     "metadata": {
      "needs_background": "light"
     },
     "output_type": "display_data"
    },
    {
     "name": "stdout",
     "output_type": "stream",
     "text": [
      "            dcoilwtico     sales\n",
      "dcoilwtico    1.000000 -0.705002\n",
      "sales        -0.705002  1.000000\n"
     ]
    }
   ],
   "source": [
    "train_df = pd.read_csv(TRAIN_FILE, parse_dates=['date'])\n",
    "\n",
    "# Create a dataset with daily figures.\n",
    "daily_figures = train_df.groupby('date').sum()[['sales']]\n",
    "\n",
    "# Merge left as the daily_figures only contains training dates.\n",
    "oil_and_sales_df = oil_df.merge(daily_figures, on='date', how='left')\n",
    "oil_and_sales_df.plot.scatter('dcoilwtico', 'sales')\n",
    "plt.show()\n",
    "plt.close()\n",
    "print(oil_and_sales_df.corr())\n"
   ],
   "metadata": {
    "collapsed": false,
    "pycharm": {
     "name": "#%%\n"
    }
   }
  },
  {
   "cell_type": "markdown",
   "source": [
    "There is a negative relation between oil prices and sale volumes (-0.7 pearson), as oil prices increase people perhaps have less to spend on other commodities.\n",
    "Note that there are some clear clusters in this scatter plot.\n"
   ],
   "metadata": {
    "collapsed": false,
    "pycharm": {
     "name": "#%% md\n"
    }
   }
  }
 ],
 "metadata": {
  "kernelspec": {
   "name": "python3",
   "language": "python",
   "display_name": "Python 3 (ipykernel)"
  },
  "language_info": {
   "codemirror_mode": {
    "name": "ipython",
    "version": 2
   },
   "file_extension": ".py",
   "mimetype": "text/x-python",
   "name": "python",
   "nbconvert_exporter": "python",
   "pygments_lexer": "ipython2",
   "version": "2.7.6"
  }
 },
 "nbformat": 4,
 "nbformat_minor": 0
}