{
 "cells": [
  {
   "cell_type": "markdown",
   "metadata": {
    "collapsed": true,
    "pycharm": {
     "name": "#%% md\n"
    }
   },
   "source": [
    "# Holidays data\n",
    "\n",
    "Investigating the holidays datasets.\n",
    "\n",
    "Lets start with loading the data."
   ]
  },
  {
   "cell_type": "code",
   "execution_count": 1,
   "outputs": [],
   "source": [
    "import pandas as pd\n",
    "from matplotlib import pyplot as plt\n",
    "\n",
    "from definitions import HOLIDAY_EVENTS_FILE, TRAIN_FILE\n",
    "\n",
    "# load holiday dataframe and training data.\n",
    "holiday_df = pd.read_csv(HOLIDAY_EVENTS_FILE, parse_dates=['date'])\n",
    "train_df = pd.read_csv(TRAIN_FILE, parse_dates=['date'])\n",
    "\n",
    "# Create a dataset with daily figures.\n",
    "daily_figures = train_df.groupby('date').sum()[['sales']]\n",
    "\n",
    "# Add sales data to holidays dataframe.\n",
    "start_date = train_df.date.min()\n",
    "end_date = train_df.date.max()\n",
    "holiday_df = holiday_df[holiday_df.date.between(start_date, end_date)]\n",
    "holiday_df = holiday_df.merge(daily_figures, on='date', how='left')"
   ],
   "metadata": {
    "collapsed": false,
    "pycharm": {
     "name": "#%%\n"
    }
   }
  },
  {
   "cell_type": "markdown",
   "source": [
    "Lets see if we have sales numbers for every holiday."
   ],
   "metadata": {
    "collapsed": false,
    "pycharm": {
     "name": "#%% md\n"
    }
   }
  },
  {
   "cell_type": "code",
   "execution_count": 2,
   "outputs": [
    {
     "name": "stdout",
     "output_type": "stream",
     "text": [
      "          date     type    locale locale_name description  transferred  sales\n",
      "48  2013-12-25  Holiday  National     Ecuador     Navidad        False    NaN\n",
      "114 2014-12-25  Holiday  National     Ecuador     Navidad        False    NaN\n",
      "167 2015-12-25  Holiday  National     Ecuador     Navidad        False    NaN\n",
      "253 2016-12-25  Holiday  National     Ecuador     Navidad        False    NaN\n"
     ]
    }
   ],
   "source": [
    "print(holiday_df[holiday_df.sales.isna()])"
   ],
   "metadata": {
    "collapsed": false,
    "pycharm": {
     "name": "#%%\n"
    }
   }
  },
  {
   "cell_type": "markdown",
   "source": [
    "It looks like there is no sales data on the first day of christmas. Most likely the stores are closed on this day. So we replace the Nan's with 0."
   ],
   "metadata": {
    "collapsed": false,
    "pycharm": {
     "name": "#%% md\n"
    }
   }
  },
  {
   "cell_type": "code",
   "execution_count": 3,
   "outputs": [],
   "source": [
    "holiday_df = holiday_df.fillna(0)"
   ],
   "metadata": {
    "collapsed": false,
    "pycharm": {
     "name": "#%%\n"
    }
   }
  },
  {
   "cell_type": "code",
   "execution_count": 4,
   "outputs": [
    {
     "name": "stdout",
     "output_type": "stream",
     "text": [
      "Average daily sales is 0.64 mln.\n"
     ]
    }
   ],
   "source": [
    "print(f\"Average daily sales is {round((daily_figures['sales'] / 1_000_000).mean(), 2)} mln (nationally).\")"
   ],
   "metadata": {
    "collapsed": false,
    "pycharm": {
     "name": "#%%\n"
    }
   }
  },
  {
   "cell_type": "markdown",
   "source": [
    "The dataset contains information about the type of holiday and where it is celebrated, this can be national local or regional.\n",
    "Let's plot the average sales figures by locale."
   ],
   "metadata": {
    "collapsed": false,
    "pycharm": {
     "name": "#%% md\n"
    }
   }
  },
  {
   "cell_type": "code",
   "execution_count": 11,
   "outputs": [
    {
     "data": {
      "text/plain": "<Figure size 432x288 with 1 Axes>",
      "image/png": "[encoded data removed]"
     },
     "metadata": {
      "needs_background": "light"
     },
     "output_type": "display_data"
    }
   ],
   "source": [
    "(holiday_df.groupby('locale').mean()['sales'] / 1_000_000).plot(kind='bar', rot=25, ylim=(0.5, 0.8), title='Mln of sales by holiday locale.')\n",
    "plt.show()"
   ],
   "metadata": {
    "collapsed": false,
    "pycharm": {
     "name": "#%%\n"
    }
   }
  },
  {
   "cell_type": "markdown",
   "source": [
    "The larger the locality, the larges the average sales quantity, which makes sense.\n",
    "\n",
    "Now let's plot the average sales by holiday type."
   ],
   "metadata": {
    "collapsed": false,
    "pycharm": {
     "name": "#%% md\n"
    }
   }
  },
  {
   "cell_type": "code",
   "execution_count": 6,
   "outputs": [
    {
     "data": {
      "text/plain": "<Figure size 432x288 with 1 Axes>",
      "image/png": "[encoded data removed]"
     },
     "metadata": {
      "needs_background": "light"
     },
     "output_type": "display_data"
    }
   ],
   "source": [
    "(holiday_df.groupby('type').mean()['sales'] / 1_000_000).plot(kind='bar', rot=25, title='Mln of sales by holiday type.')\n",
    "plt.show()"
   ],
   "metadata": {
    "collapsed": false,
    "pycharm": {
     "name": "#%%\n"
    }
   }
  },
  {
   "cell_type": "markdown",
   "source": [
    "Sales vary by holiday type transferred holidays and additional days are most popular for shopping."
   ],
   "metadata": {
    "collapsed": false,
    "pycharm": {
     "name": "#%% md\n"
    }
   }
  },
  {
   "cell_type": "markdown",
   "source": [
    "## Number of holidays\n",
    "To see the number of off-days we add the weekends, (national) holidays that have not been transferred to another date and subtract the holiday's of type 'work day'."
   ],
   "metadata": {
    "collapsed": false,
    "pycharm": {
     "name": "#%% md\n"
    }
   }
  },
  {
   "cell_type": "code",
   "execution_count": 7,
   "outputs": [
    {
     "name": "stdout",
     "output_type": "stream",
     "text": [
      "True     0.659145\n",
      "False    0.340855\n",
      "Name: work_day, dtype: float64\n"
     ]
    }
   ],
   "source": [
    "is_off_day = (holiday_df['transferred'] == False) & (holiday_df['locale'] == 'National')\n",
    "is_work_day = holiday_df['type'] == 'Work Day'\n",
    "holiday = holiday_df[is_off_day & (False == is_work_day)]\n",
    "extra_work_days = holiday_df[is_work_day]\n",
    "\n",
    "daily_figures['weekend_day'] = daily_figures.index.day_of_week.isin([5, 6])\n",
    "daily_figures['holiday'] = daily_figures.index.isin(holiday.date.values)\n",
    "daily_figures['work_day'] = (daily_figures['weekend_day'] == False) & \\\n",
    "                            (daily_figures['holiday'] == False) & \\\n",
    "                            (daily_figures.index.isin(extra_work_days.date.values) == False)\n",
    "\n",
    "print(daily_figures['work_day'].value_counts(normalize=True))"
   ],
   "metadata": {
    "collapsed": false,
    "pycharm": {
     "name": "#%%\n"
    }
   }
  },
  {
   "cell_type": "markdown",
   "source": [
    "64 percent of all days are work day's."
   ],
   "metadata": {
    "collapsed": false,
    "pycharm": {
     "name": "#%% md\n"
    }
   }
  },
  {
   "cell_type": "markdown",
   "source": [
    "## Correlation\n",
    "\n",
    "Now lets find out which variables are most salient in predicting the sales on a holiday.\n",
    "Some simple linear regression should help us.\n",
    "\n",
    "First we create a function that encodes the data and fits a regression model."
   ],
   "metadata": {
    "collapsed": false,
    "pycharm": {
     "name": "#%% md\n"
    }
   }
  },
  {
   "cell_type": "code",
   "execution_count": 8,
   "outputs": [],
   "source": [
    "from sklearn.linear_model import LinearRegression\n",
    "from sklearn.preprocessing import OneHotEncoder\n",
    "\n",
    "def linear_regression(X, y):\n",
    "    # one-hot encode the data.\n",
    "    encoder = OneHotEncoder()\n",
    "    encoder.fit(X)\n",
    "    X_transformed = encoder.transform(X)\n",
    "\n",
    "    # create a regressor, train it and get a score.\n",
    "    regressor = LinearRegression()\n",
    "    regressor.fit(X_transformed, y)\n",
    "    score = regressor.score(X_transformed, y)\n",
    "\n",
    "    return score\n"
   ],
   "metadata": {
    "collapsed": false,
    "pycharm": {
     "name": "#%%\n"
    }
   }
  },
  {
   "cell_type": "markdown",
   "source": [
    "We can use the type, locale, locale_name and transferred columns to predict sales. With this limited number of columns we can just try all possible combinations."
   ],
   "metadata": {
    "collapsed": false
   }
  },
  {
   "cell_type": "code",
   "execution_count": 9,
   "outputs": [
    {
     "data": {
      "text/plain": "<Figure size 1080x720 with 1 Axes>",
      "image/png": "[encoded data removed]"
     },
     "metadata": {
      "needs_background": "light"
     },
     "output_type": "display_data"
    }
   ],
   "source": [
    "from itertools import combinations\n",
    "\n",
    "# Create every possible combination of the predictor columns.\n",
    "predictor_columns = ['type', 'locale', 'locale_name', 'transferred']\n",
    "predictor_col_combos = []\n",
    "for r in range(1, len(predictor_columns)):\n",
    "    predictor_col_combos = list(combinations(predictor_columns, r)) + predictor_col_combos\n",
    "\n",
    "# Do regression with all the combinations.\n",
    "results = []\n",
    "y = holiday_df.sales\n",
    "for col_combination in predictor_col_combos:\n",
    "    X = holiday_df[list(col_combination)]\n",
    "    score = linear_regression(X, y)\n",
    "    results.append(score)\n",
    "\n",
    "# Display results in a bar chart.\n",
    "index = [''.join([c + '\\n' for c in columns]) for columns in predictor_col_combos]\n",
    "results_df = pd.Series(results, index=index)\n",
    "results_df.plot(kind='bar', rot=25, title='linear regression results using different input variables', figsize=(15, 10))\n",
    "plt.show()\n"
   ],
   "metadata": {
    "collapsed": false,
    "pycharm": {
     "name": "#%%\n"
    }
   }
  },
  {
   "cell_type": "markdown",
   "source": [
    "Combinations that contain holiday type and locale_name seem to preform the best, lets see the coefficients."
   ],
   "metadata": {
    "collapsed": false
   }
  },
  {
   "cell_type": "code",
   "execution_count": 18,
   "outputs": [
    {
     "name": "stdout",
     "output_type": "stream",
     "text": [
      "Linear regression coefficients.\n",
      "Salinas (locale)                           34.707794\n",
      "Additional (type)                          12.343813\n",
      "Cotopaxi (locale)                          11.287465\n",
      "Santo Domingo (locale)                     10.814593\n",
      "El Carmen (locale)                         10.814593\n",
      "Transfer (type)                             9.231839\n",
      "Manta (locale)                              4.673761\n",
      "Loja (locale)                               4.298693\n",
      "Santo Domingo de los Tsachilas (locale)     4.255505\n",
      "Bridge (type)                               4.246667\n",
      "Santa Elena (locale)                        2.923999\n",
      "Ibarra (locale)                             2.015492\n",
      "Cayambe (locale)                            0.724424\n",
      "Event (type)                                0.488288\n",
      "Esmeraldas (locale)                        -0.478665\n",
      "Quito (locale)                             -1.867812\n",
      "Imbabura (locale)                          -2.204539\n",
      "Machala (locale)                           -2.204539\n",
      "Riobamba (locale)                          -2.445944\n",
      "Quevedo (locale)                           -2.896652\n",
      "Latacunga (locale)                         -4.159211\n",
      "Ambato (locale)                            -6.047606\n",
      "Guaranda (locale)                          -6.248903\n",
      "Ecuador (locale)                           -6.746360\n",
      "Cuenca (locale)                            -7.850334\n",
      "Work Day (type)                            -9.045864\n",
      "Puyo (locale)                             -12.716313\n",
      "Libertad (locale)                         -13.823920\n",
      "Guayaquil (locale)                        -16.825523\n",
      "Holiday (type)                            -17.264744\n",
      "dtype: float64\n"
     ]
    }
   ],
   "source": [
    "# scale sales data to thousands, for readability.\n",
    "holiday_df['sales'] = holiday_df['sales'] / 1000\n",
    "\n",
    "# encode data.\n",
    "encoder = OneHotEncoder()\n",
    "X = holiday_df[['type', 'locale_name']]\n",
    "encoder.fit(X)\n",
    "X_transformed = encoder.transform(X)\n",
    "\n",
    "# create and fit regression model.\n",
    "regressor = LinearRegression()\n",
    "regressor.fit(X_transformed, y)\n",
    "score = regressor.score(X_transformed, y)\n",
    "\n",
    "# create series with coefficients, sort and print.\n",
    "types = [type + ' (type)' for type in encoder.categories_[0]]\n",
    "locale_names = [locale + ' (locale)' for locale in encoder.categories_[1]]\n",
    "coefficients = dict(zip(types + locale_names, regressor.coef_))\n",
    "print('Linear regression coefficients.')\n",
    "print(pd.Series(coefficients).sort_values(ascending=False))\n"
   ],
   "metadata": {
    "collapsed": false,
    "pycharm": {
     "name": "#%%\n"
    }
   }
  },
  {
   "cell_type": "markdown",
   "source": [],
   "metadata": {
    "collapsed": false,
    "pycharm": {
     "name": "#%% md\n"
    }
   }
  }
 ],
 "metadata": {
  "kernelspec": {
   "display_name": "Python 3",
   "language": "python",
   "name": "python3"
  },
  "language_info": {
   "codemirror_mode": {
    "name": "ipython",
    "version": 2
   },
   "file_extension": ".py",
   "mimetype": "text/x-python",
   "name": "python",
   "nbconvert_exporter": "python",
   "pygments_lexer": "ipython2",
   "version": "2.7.6"
  }
 },
 "nbformat": 4,
 "nbformat_minor": 0
}